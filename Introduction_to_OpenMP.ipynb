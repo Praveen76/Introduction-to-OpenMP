{
  "nbformat": 4,
  "nbformat_minor": 5,
  "metadata": {
    "kernelspec": {
      "display_name": "Python 3",
      "name": "python3"
    },
    "language_info": {
      "codemirror_mode": {
        "name": "ipython",
        "version": 3
      },
      "file_extension": ".py",
      "mimetype": "text/x-python",
      "name": "python",
      "nbconvert_exporter": "python",
      "pygments_lexer": "ipython3",
      "version": "3.6.7rc1"
    },
    "colab": {
      "provenance": [],
      "machine_shape": "hm",
      "gpuType": "A100",
      "include_colab_link": true
    },
    "accelerator": "GPU"
  },
  "cells": [
    {
      "cell_type": "markdown",
      "metadata": {
        "id": "view-in-github",
        "colab_type": "text"
      },
      "source": [
        "<a href=\"https://colab.research.google.com/github/Praveen76/Introduction-to-OpenMP/blob/main/Introduction_to_OpenMP.ipynb\" target=\"_parent\"><img src=\"https://colab.research.google.com/assets/colab-badge.svg\" alt=\"Open In Colab\"/></a>"
      ]
    },
    {
      "cell_type": "markdown",
      "metadata": {
        "id": "lesbian-plaza"
      },
      "source": [
        "## Learning Objectives"
      ],
      "id": "lesbian-plaza"
    },
    {
      "cell_type": "markdown",
      "metadata": {
        "id": "identical-object"
      },
      "source": [
        "At the end of the experiment, you will be able to:\n",
        "\n",
        "* understand the parallelization in python\n",
        "* implement multiprocessing using OpenMP"
      ],
      "id": "identical-object"
    },
    {
      "cell_type": "markdown",
      "metadata": {
        "id": "communist-baghdad"
      },
      "source": [
        "## Information"
      ],
      "id": "communist-baghdad"
    },
    {
      "cell_type": "markdown",
      "metadata": {
        "id": "large-terrorist"
      },
      "source": [
        "OpenMP is an Application Program Interface (API), jointly defined by a group of major computer hardware and software vendors. It provides a portable, scalable model for developers of shared memory parallel applications\n",
        "\n",
        "OpenMP is the easiest to use and requires the minimum learning overhead and  most key parallel design patterns can be learned with OpenMP.\n",
        "\n",
        "**Concurrency:** A condition of a system in which multiple\n",
        "tasks are logically active at one time.\n",
        "\n",
        "**Parallelism:** A condition of a system in which multiple\n",
        "tasks are actually active at one time.\n",
        "\n",
        "![link text](https://cdn.iisc.talentsprint.com/CDS/Images/OpenMP_Concurrent_Parallel.JPG)"
      ],
      "id": "large-terrorist"
    },
    {
      "cell_type": "markdown",
      "source": [
        "### Setup Steps:"
      ],
      "metadata": {
        "id": "rKQ0Fvl_jNqU"
      },
      "id": "rKQ0Fvl_jNqU"
    },
    {
      "cell_type": "markdown",
      "metadata": {
        "id": "beneficial-alexander"
      },
      "source": [
        "#### Importing required packages"
      ],
      "id": "beneficial-alexander"
    },
    {
      "cell_type": "code",
      "metadata": {
        "id": "critical-telephone"
      },
      "source": [
        "import concurrent.futures\n",
        "# The concurrent.futures module provides a high-level interface for asynchronously executing callables.\n",
        "import time\n",
        "from multiprocessing import Pool\n",
        "# Pool is for parallelizing the execution of a function across multiple input values\n",
        "import numpy as np"
      ],
      "id": "critical-telephone",
      "execution_count": 3,
      "outputs": []
    },
    {
      "cell_type": "markdown",
      "metadata": {
        "id": "metropolitan-villa"
      },
      "source": [
        "Let us derive a function that performs an action with sleep time and execute it with concurrent pool executors"
      ],
      "id": "metropolitan-villa"
    },
    {
      "cell_type": "markdown",
      "source": [
        "### 1. Concurrency: Let's say a juggler is juggling 5 balls, but he is juggling only 1 ball at a time.\n",
        "\n",
        "### 2. Multi-processing: Let's say multiple jugglers are juggling multiple balls at a time. So, each one of these jugglers is juggling seperate set of balls."
      ],
      "metadata": {
        "id": "LJpaSgFdHj7R"
      },
      "id": "LJpaSgFdHj7R"
    },
    {
      "cell_type": "code",
      "metadata": {
        "id": "approved-retrieval"
      },
      "source": [
        "start = time.perf_counter() # return time as nanoseconds\n",
        "\n",
        "# function to delay the execution of a program\n",
        "def do_something(seconds):\n",
        "    print('Sleeping {} second(s)...'.format(seconds))\n",
        "    time.sleep(seconds)\n",
        "    return f'Done Sleeping...{seconds}'\n",
        "\n",
        "# chops iterables into a number of chunks which it submits to the pool as separate tasks.\n",
        "with concurrent.futures.ProcessPoolExecutor() as executor:\n",
        "    secs = [5, 4, 3, 2, 1]\n",
        "    results = executor.map(do_something, secs)\n",
        "\n",
        "finish = time.perf_counter()\n",
        "print('Finished in {} second(s)'.format(finish-start))"
      ],
      "id": "approved-retrieval",
      "execution_count": null,
      "outputs": []
    },
    {
      "cell_type": "markdown",
      "source": [
        "### Amdahl's Law: There's a limit to achieve speedup by increasing the number of cores."
      ],
      "metadata": {
        "id": "E7JAhiouRnhm"
      },
      "id": "E7JAhiouRnhm"
    },
    {
      "cell_type": "code",
      "source": [
        "p=0.9\n",
        "n=64\n",
        "def amdahls(p, n):\n",
        "  return ((1-p)+p/n)**-1\n",
        "print(amdahls(p, n))"
      ],
      "metadata": {
        "id": "6v0uxdRcSZvA",
        "outputId": "d1d46f78-92c3-4ebc-e3d4-e7338a60345d",
        "colab": {
          "base_uri": "https://localhost:8080/"
        }
      },
      "id": "6v0uxdRcSZvA",
      "execution_count": 1,
      "outputs": [
        {
          "output_type": "stream",
          "name": "stdout",
          "text": [
            "8.767123287671234\n"
          ]
        }
      ]
    },
    {
      "cell_type": "markdown",
      "metadata": {
        "id": "turkish-christopher"
      },
      "source": [
        "### Parallelization in Python"
      ],
      "id": "turkish-christopher"
    },
    {
      "cell_type": "markdown",
      "metadata": {
        "id": "collected-point"
      },
      "source": [
        "Python does not thread very well. Specifically, Python has a very nasty drawback known as a Global Interpreter Lock (GIL). The GIL ensures that only one compute thread can run at a time. This makes multithreaded processing very difficult. Instead, the best way to go about doing things is to use multiple independent processes to perform the computations. This method skips the GIL, as each individual process has it’s own GIL that does not block the others. This is typically done using the multiprocessing module."
      ],
      "id": "collected-point"
    },
    {
      "cell_type": "markdown",
      "metadata": {
        "id": "missing-tribune"
      },
      "source": [
        "The pool object gives us a set of parallel workers we can use to parallelize our calculations. In particular, there is a map function (with identical syntax to the map() function used earlier), that runs a workflow in parallel.\n",
        "\n",
        "Let’s try map() out with a test function that just runs sleep."
      ],
      "id": "missing-tribune"
    },
    {
      "cell_type": "code",
      "metadata": {
        "id": "familiar-occasion"
      },
      "source": [
        "# function for time sleep with 0.1 sec\n",
        "def sleeping(arg):\n",
        "    time.sleep(0.1)\n",
        "\n",
        "%timeit list(map(sleeping, range(24)))"
      ],
      "id": "familiar-occasion",
      "execution_count": null,
      "outputs": []
    },
    {
      "cell_type": "markdown",
      "metadata": {
        "id": "visible-campus"
      },
      "source": [
        "%timeit is an ipython magic function, which can be used to time a particular piece of code (A single execution statement, or a single method).\n",
        "\n",
        "To know more about `%timeit` click [here](https://ipython.org/ipython-doc/dev/interactive/magics.html#magic-timeit)"
      ],
      "id": "visible-campus"
    },
    {
      "cell_type": "markdown",
      "metadata": {
        "id": "consecutive-competition"
      },
      "source": [
        "Now let’s try it in parallel:"
      ],
      "id": "consecutive-competition"
    },
    {
      "cell_type": "code",
      "metadata": {
        "id": "Ynqc2e_dGZMU"
      },
      "source": [
        "pool = Pool(4)"
      ],
      "id": "Ynqc2e_dGZMU",
      "execution_count": null,
      "outputs": []
    },
    {
      "cell_type": "code",
      "metadata": {
        "id": "processed-delicious"
      },
      "source": [
        "%timeit pool.map(sleeping, range(24))"
      ],
      "id": "processed-delicious",
      "execution_count": null,
      "outputs": []
    },
    {
      "cell_type": "markdown",
      "metadata": {
        "id": "conditional-knock"
      },
      "source": [
        "The multiprocessing module has a major limitation: it only accepts certain  functions, and in certain situations. For instance any class methods, lambdas, or functions defined in __main__ won't work. This is due to the way Python “pickles” (read: serializes) data and sends it to the worker processes. “Pickling” simply can’t handle a lot of different types of Python objects.\n",
        "\n",
        "Fortunately, there is a fork of the multiprocessing module called *multiprocess* that works just fine. *multiprocess* uses dill instead of pickle to serialize Python objects (read: send your data and functions to the Python workers), and does not suffer the same issues. Usage is identical:"
      ],
      "id": "conditional-knock"
    },
    {
      "cell_type": "code",
      "source": [
        "!pip install multiprocess\n",
        "from multiprocess import Pool"
      ],
      "metadata": {
        "id": "LaKO3FDcKj3J",
        "outputId": "b95fa84b-df47-4c4a-f25a-c778733468e0",
        "colab": {
          "base_uri": "https://localhost:8080/"
        }
      },
      "id": "LaKO3FDcKj3J",
      "execution_count": 4,
      "outputs": [
        {
          "output_type": "stream",
          "name": "stdout",
          "text": [
            "Collecting multiprocess\n",
            "  Downloading multiprocess-0.70.16-py310-none-any.whl (134 kB)\n",
            "\u001b[?25l     \u001b[90m━━━━━━━━━━━━━━━━━━━━━━━━━━━━━━━━━━━━━━━━\u001b[0m \u001b[32m0.0/134.8 kB\u001b[0m \u001b[31m?\u001b[0m eta \u001b[36m-:--:--\u001b[0m\r\u001b[2K     \u001b[90m━━━━━━━━━━━━━━━━━━━━━━━━━━━━━━━━━━━━━━━━\u001b[0m \u001b[32m134.8/134.8 kB\u001b[0m \u001b[31m4.2 MB/s\u001b[0m eta \u001b[36m0:00:00\u001b[0m\n",
            "\u001b[?25hCollecting dill>=0.3.8 (from multiprocess)\n",
            "  Downloading dill-0.3.8-py3-none-any.whl (116 kB)\n",
            "\u001b[?25l     \u001b[90m━━━━━━━━━━━━━━━━━━━━━━━━━━━━━━━━━━━━━━━━\u001b[0m \u001b[32m0.0/116.3 kB\u001b[0m \u001b[31m?\u001b[0m eta \u001b[36m-:--:--\u001b[0m\r\u001b[2K     \u001b[90m━━━━━━━━━━━━━━━━━━━━━━━━━━━━━━━━━━━━━━━━\u001b[0m \u001b[32m116.3/116.3 kB\u001b[0m \u001b[31m16.9 MB/s\u001b[0m eta \u001b[36m0:00:00\u001b[0m\n",
            "\u001b[?25hInstalling collected packages: dill, multiprocess\n",
            "Successfully installed dill-0.3.8 multiprocess-0.70.16\n"
          ]
        }
      ]
    },
    {
      "cell_type": "code",
      "metadata": {
        "id": "capable-grade"
      },
      "source": [
        "# shut down the old workers\n",
        "pool.close()\n",
        "\n",
        "pool = Pool(4)\n",
        "%timeit pool.map(lambda x: time.sleep(0.1), range(24))\n",
        "pool.close()"
      ],
      "id": "capable-grade",
      "execution_count": null,
      "outputs": []
    },
    {
      "cell_type": "markdown",
      "metadata": {
        "id": "running-regression"
      },
      "source": [
        "This is a general purpose parallelization recipe that we can use for your Python projects."
      ],
      "id": "running-regression"
    },
    {
      "cell_type": "code",
      "metadata": {
        "id": "lightweight-representative"
      },
      "source": [
        "# function to square the number\n",
        "def square(x):\n",
        "    return x**2"
      ],
      "id": "lightweight-representative",
      "execution_count": null,
      "outputs": []
    },
    {
      "cell_type": "code",
      "metadata": {
        "id": "amber-commodity"
      },
      "source": [
        "# make sure to always use multiprocess\n",
        "\n",
        "number_of_cores = 4\n",
        "# start your parallel workers at the beginning of your script\n",
        "pool = Pool(number_of_cores)\n",
        "\n",
        "start = time.perf_counter()\n",
        "\n",
        "# execute a computation(s) in parallel\n",
        "result = pool.map(square, range(24))\n",
        "result2 = pool.map(square, range(24))\n",
        "\n",
        "finish = time.perf_counter()\n",
        "print(f'Finished in {round(finish-start, 2)} second(s)')\n",
        "\n",
        "# turn off your parallel workers at the end of your script\n",
        "pool.close()"
      ],
      "id": "amber-commodity",
      "execution_count": null,
      "outputs": []
    },
    {
      "cell_type": "markdown",
      "metadata": {
        "id": "stunning-fighter"
      },
      "source": [
        "### MultiProcessing in Python using openMP"
      ],
      "id": "stunning-fighter"
    },
    {
      "cell_type": "markdown",
      "metadata": {
        "id": "advisory-patent"
      },
      "source": [
        "#### OpenMP\n",
        "OpenMP employs a few principles in its programming model. The first is that everything takes place in threads. The second is the fork-join model, which comprises parallel regions in which one or more threads can be used\n",
        "\n",
        "![link text](https://cdn.iisc.talentsprint.com/CDS/Images/Fork_join.png)\n",
        "\n",
        "Above figure depicts the illustration of the fork–join paradigm, in which three regions of the program permit parallel execution of the variously colored blocks. Sequential execution is displayed on the top, while its equivalent fork–join execution is on the bottom."
      ],
      "id": "advisory-patent"
    },
    {
      "cell_type": "markdown",
      "metadata": {
        "id": "increased-fundamental"
      },
      "source": [
        "#### Pymp\n",
        "Because the goal of Pymp is to bring OpenMP-like functionality to Python, Pymp and Python should naturally share some concepts. A single master thread forks into multiple threads, sharing data and then synchronizing (joining) and destroying the threads.\n",
        "\n",
        "As with OpenMP applications, when Pymp Python code hits a parallel region, processes – termed child processes – are forked and are in a state that is nearly the same as the “master process.” Note that these are forked processes and not threads, as is typical with OpenMP applications. As for the shared memory, according to the Pymp website, “… the memory is not copied, but referenced. Only when a process writes into a part of the memory [does] it gets its own copy of the corresponding memory region. This keeps the processing overhead low (but of course not as low as for OpenMP threads).”"
      ],
      "id": "increased-fundamental"
    },
    {
      "cell_type": "code",
      "metadata": {
        "id": "educational-interim"
      },
      "source": [
        "# install the pymp\n",
        "!pip -qq install pymp-pypi"
      ],
      "id": "educational-interim",
      "execution_count": 5,
      "outputs": []
    },
    {
      "cell_type": "markdown",
      "metadata": {
        "id": "demonstrated-chicken"
      },
      "source": [
        "To keep things simple, this is a serial code with a single array."
      ],
      "id": "demonstrated-chicken"
    },
    {
      "cell_type": "code",
      "metadata": {
        "id": "listed-basement",
        "outputId": "5dcb79e9-76f2-4cb5-f2b3-a760bbcc3d98",
        "colab": {
          "base_uri": "https://localhost:8080/"
        }
      },
      "source": [
        "# creating an array of zeros\n",
        "ex_array = np.zeros((100,), dtype='uint8')\n",
        "for index in range(0, 100):\n",
        "    # assigning 1\n",
        "    ex_array[index] = 1\n",
        "    print('Yay! {} done!'.format(index))"
      ],
      "id": "listed-basement",
      "execution_count": 6,
      "outputs": [
        {
          "output_type": "stream",
          "name": "stdout",
          "text": [
            "Yay! 0 done!\n",
            "Yay! 1 done!\n",
            "Yay! 2 done!\n",
            "Yay! 3 done!\n",
            "Yay! 4 done!\n",
            "Yay! 5 done!\n",
            "Yay! 6 done!\n",
            "Yay! 7 done!\n",
            "Yay! 8 done!\n",
            "Yay! 9 done!\n",
            "Yay! 10 done!\n",
            "Yay! 11 done!\n",
            "Yay! 12 done!\n",
            "Yay! 13 done!\n",
            "Yay! 14 done!\n",
            "Yay! 15 done!\n",
            "Yay! 16 done!\n",
            "Yay! 17 done!\n",
            "Yay! 18 done!\n",
            "Yay! 19 done!\n",
            "Yay! 20 done!\n",
            "Yay! 21 done!\n",
            "Yay! 22 done!\n",
            "Yay! 23 done!\n",
            "Yay! 24 done!\n",
            "Yay! 25 done!\n",
            "Yay! 26 done!\n",
            "Yay! 27 done!\n",
            "Yay! 28 done!\n",
            "Yay! 29 done!\n",
            "Yay! 30 done!\n",
            "Yay! 31 done!\n",
            "Yay! 32 done!\n",
            "Yay! 33 done!\n",
            "Yay! 34 done!\n",
            "Yay! 35 done!\n",
            "Yay! 36 done!\n",
            "Yay! 37 done!\n",
            "Yay! 38 done!\n",
            "Yay! 39 done!\n",
            "Yay! 40 done!\n",
            "Yay! 41 done!\n",
            "Yay! 42 done!\n",
            "Yay! 43 done!\n",
            "Yay! 44 done!\n",
            "Yay! 45 done!\n",
            "Yay! 46 done!\n",
            "Yay! 47 done!\n",
            "Yay! 48 done!\n",
            "Yay! 49 done!\n",
            "Yay! 50 done!\n",
            "Yay! 51 done!\n",
            "Yay! 52 done!\n",
            "Yay! 53 done!\n",
            "Yay! 54 done!\n",
            "Yay! 55 done!\n",
            "Yay! 56 done!\n",
            "Yay! 57 done!\n",
            "Yay! 58 done!\n",
            "Yay! 59 done!\n",
            "Yay! 60 done!\n",
            "Yay! 61 done!\n",
            "Yay! 62 done!\n",
            "Yay! 63 done!\n",
            "Yay! 64 done!\n",
            "Yay! 65 done!\n",
            "Yay! 66 done!\n",
            "Yay! 67 done!\n",
            "Yay! 68 done!\n",
            "Yay! 69 done!\n",
            "Yay! 70 done!\n",
            "Yay! 71 done!\n",
            "Yay! 72 done!\n",
            "Yay! 73 done!\n",
            "Yay! 74 done!\n",
            "Yay! 75 done!\n",
            "Yay! 76 done!\n",
            "Yay! 77 done!\n",
            "Yay! 78 done!\n",
            "Yay! 79 done!\n",
            "Yay! 80 done!\n",
            "Yay! 81 done!\n",
            "Yay! 82 done!\n",
            "Yay! 83 done!\n",
            "Yay! 84 done!\n",
            "Yay! 85 done!\n",
            "Yay! 86 done!\n",
            "Yay! 87 done!\n",
            "Yay! 88 done!\n",
            "Yay! 89 done!\n",
            "Yay! 90 done!\n",
            "Yay! 91 done!\n",
            "Yay! 92 done!\n",
            "Yay! 93 done!\n",
            "Yay! 94 done!\n",
            "Yay! 95 done!\n",
            "Yay! 96 done!\n",
            "Yay! 97 done!\n",
            "Yay! 98 done!\n",
            "Yay! 99 done!\n"
          ]
        }
      ]
    },
    {
      "cell_type": "markdown",
      "metadata": {
        "id": "universal-royalty"
      },
      "source": [
        "Let's start with Pymp version of the same code by importing the pymp"
      ],
      "id": "universal-royalty"
    },
    {
      "cell_type": "code",
      "metadata": {
        "id": "professional-liquid"
      },
      "source": [
        "import pymp"
      ],
      "id": "professional-liquid",
      "execution_count": 7,
      "outputs": []
    },
    {
      "cell_type": "code",
      "metadata": {
        "id": "contemporary-quarter",
        "outputId": "a2f8306e-f6b0-4b9e-d432-d3bfbda60760",
        "colab": {
          "base_uri": "https://localhost:8080/"
        }
      },
      "source": [
        "# Below code will create 4 processes. Both tasks parallel process creation and joining will be handled by Context manager.\n",
        "\n",
        "ex_array = pymp.shared.array((100,), dtype='uint8')\n",
        "with pymp.Parallel(4) as p:\n",
        "    for index in p.range(0, 100):\n",
        "        ex_array[index] = 1\n",
        "        # The parallel print function takes care of asynchronous output.\n",
        "        p.print('Yay! {} done!'.format(index))"
      ],
      "id": "contemporary-quarter",
      "execution_count": 8,
      "outputs": [
        {
          "output_type": "stream",
          "name": "stdout",
          "text": [
            "Yay! 25 done!\n",
            "Yay! 26 done!\n",
            "Yay! 27 done!\n",
            "Yay! 75 done!\n",
            "Yay! 76 done!\n",
            "Yay! 77 done!\n",
            "Yay! 78 done!\n",
            "Yay! 79 done!\n",
            "Yay! 80 done!\n",
            "Yay! 81 done!\n",
            "Yay! 0 done!\n",
            "Yay! 1 done!\n",
            "Yay! 2 done!\n",
            "Yay! 3 done!\n",
            "Yay! 4 done!\n",
            "Yay! 5 done!\n",
            "Yay! 6 done!\n",
            "Yay! 50 done!\n",
            "Yay! 51 done!\n",
            "Yay! 52 done!\n",
            "Yay! 53 done!\n",
            "Yay! 54 done!\n",
            "Yay! 82 done!\n",
            "Yay! 7 done!\n",
            "Yay! 8 done!\n",
            "Yay! 9 done!\n",
            "Yay! 10 done!\n",
            "Yay! 11 done!\n",
            "Yay! 55 done!\n",
            "Yay! 56 done!\n",
            "Yay! 57 done!\n",
            "Yay! 12 done!\n",
            "Yay! 13 done!\n",
            "Yay! 28 done!\n",
            "Yay! 29 done!\n",
            "Yay! 30 done!\n",
            "Yay! 31 done!\n",
            "Yay! 32 done!\n",
            "Yay! 33 done!\n",
            "Yay! 34 done!\n",
            "Yay! 35 done!\n",
            "Yay! 36 done!\n",
            "Yay! 37 done!\n",
            "Yay! 38 done!\n",
            "Yay! 39 done!\n",
            "Yay! 40 done!\n",
            "Yay! 41 done!\n",
            "Yay! 83 done!\n",
            "Yay! 14 done!\n",
            "Yay! 58 done!\n",
            "Yay! 59 done!\n",
            "Yay! 60 done!\n",
            "Yay! 15 done!\n",
            "Yay! 16 done!\n",
            "Yay! 17 done!\n",
            "Yay! 18 done!\n",
            "Yay! 42 done!\n",
            "Yay! 43 done!\n",
            "Yay! 61 done!\n",
            "Yay! 62 done!\n",
            "Yay! 63 done!\n",
            "Yay! 44 done!\n",
            "Yay! 45 done!\n",
            "Yay! 46 done!\n",
            "Yay! 47 done!\n",
            "Yay! 19 done!\n",
            "Yay! 20 done!\n",
            "Yay! 21 done!\n",
            "Yay! 22 done!\n",
            "Yay! 23 done!\n",
            "Yay! 24 done!\n",
            "Yay! 48 done!\n",
            "Yay! 49 done!\n",
            "Yay! 64 done!\n",
            "Yay! 65 done!\n",
            "Yay! 66 done!\n",
            "Yay! 84 done!\n",
            "Yay! 85 done!\n",
            "Yay! 86 done!\n",
            "Yay! 87 done!\n",
            "Yay! 88 done!\n",
            "Yay! 89 done!\n",
            "Yay! 90 done!\n",
            "Yay! 91 done!\n",
            "Yay! 92 done!\n",
            "Yay! 93 done!\n",
            "Yay! 94 done!\n",
            "Yay! 95 done!\n",
            "Yay! 96 done!\n",
            "Yay! 97 done!\n",
            "Yay! 98 done!\n",
            "Yay! 99 done!\n",
            "Yay! 67 done!\n",
            "Yay! 68 done!\n",
            "Yay! 69 done!\n",
            "Yay! 70 done!\n",
            "Yay! 71 done!\n",
            "Yay! 72 done!\n",
            "Yay! 73 done!\n",
            "Yay! 74 done!\n"
          ]
        }
      ]
    },
    {
      "cell_type": "code",
      "source": [
        "import pymp\n",
        "\n",
        "# Create an array to store results\n",
        "result_array = pymp.shared.array((100,), dtype='uint8')\n",
        "\n",
        "# Parallel processing using pymp\n",
        "with pymp.Parallel(4) as p:\n",
        "    for index in p.range(0, 100):\n",
        "        result_array[index] = index * index\n",
        "\n",
        "# Output the results\n",
        "print(result_array[:])\n"
      ],
      "metadata": {
        "id": "GtTBZEuirQtz",
        "outputId": "acff8c2d-177b-4440-ce41-b54c097c5c22",
        "colab": {
          "base_uri": "https://localhost:8080/"
        }
      },
      "id": "GtTBZEuirQtz",
      "execution_count": 9,
      "outputs": [
        {
          "output_type": "stream",
          "name": "stderr",
          "text": [
            "<ipython-input-9-cb2dbe2e20c4>:9: DeprecationWarning: NumPy will stop allowing conversion of out-of-bound Python integers to integer arrays.  The conversion of 625 to uint8 will fail in the future.\n",
            "For the old behavior, usually:\n",
            "    np.array(value).astype(dtype)\n",
            "will give the desired result (the cast overflows).\n",
            "  result_array[index] = index * index\n",
            "<ipython-input-9-cb2dbe2e20c4>:9: DeprecationWarning: NumPy will stop allowing conversion of out-of-bound Python integers to integer arrays.  The conversion of 676 to uint8 will fail in the future.\n",
            "For the old behavior, usually:\n",
            "    np.array(value).astype(dtype)\n",
            "will give the desired result (the cast overflows).\n",
            "  result_array[index] = index * index\n",
            "<ipython-input-9-cb2dbe2e20c4>:9: DeprecationWarning: NumPy will stop allowing conversion of out-of-bound Python integers to integer arrays.  The conversion of 2500 to uint8 will fail in the future.\n",
            "For the old behavior, usually:\n",
            "    np.array(value).astype(dtype)\n",
            "will give the desired result (the cast overflows).\n",
            "  result_array[index] = index * index\n",
            "<ipython-input-9-cb2dbe2e20c4>:9: DeprecationWarning: NumPy will stop allowing conversion of out-of-bound Python integers to integer arrays.  The conversion of 729 to uint8 will fail in the future.\n",
            "For the old behavior, usually:\n",
            "    np.array(value).astype(dtype)\n",
            "will give the desired result (the cast overflows).\n",
            "  result_array[index] = index * index\n",
            "<ipython-input-9-cb2dbe2e20c4>:9: DeprecationWarning: NumPy will stop allowing conversion of out-of-bound Python integers to integer arrays.  The conversion of 2601 to uint8 will fail in the future.\n",
            "For the old behavior, usually:\n",
            "    np.array(value).astype(dtype)\n",
            "will give the desired result (the cast overflows).\n",
            "  result_array[index] = index * index\n",
            "<ipython-input-9-cb2dbe2e20c4>:9: DeprecationWarning: NumPy will stop allowing conversion of out-of-bound Python integers to integer arrays.  The conversion of 784 to uint8 will fail in the future.\n",
            "For the old behavior, usually:\n",
            "    np.array(value).astype(dtype)\n",
            "will give the desired result (the cast overflows).\n",
            "  result_array[index] = index * index\n",
            "<ipython-input-9-cb2dbe2e20c4>:9: DeprecationWarning: NumPy will stop allowing conversion of out-of-bound Python integers to integer arrays.  The conversion of 5625 to uint8 will fail in the future.\n",
            "For the old behavior, usually:\n",
            "    np.array(value).astype(dtype)\n",
            "will give the desired result (the cast overflows).\n",
            "  result_array[index] = index * index\n",
            "<ipython-input-9-cb2dbe2e20c4>:9: DeprecationWarning: NumPy will stop allowing conversion of out-of-bound Python integers to integer arrays.  The conversion of 2704 to uint8 will fail in the future.\n",
            "For the old behavior, usually:\n",
            "    np.array(value).astype(dtype)\n",
            "will give the desired result (the cast overflows).\n",
            "  result_array[index] = index * index\n",
            "<ipython-input-9-cb2dbe2e20c4>:9: DeprecationWarning: NumPy will stop allowing conversion of out-of-bound Python integers to integer arrays.  The conversion of 841 to uint8 will fail in the future.\n",
            "For the old behavior, usually:\n",
            "    np.array(value).astype(dtype)\n",
            "will give the desired result (the cast overflows).\n",
            "  result_array[index] = index * index\n",
            "<ipython-input-9-cb2dbe2e20c4>:9: DeprecationWarning: NumPy will stop allowing conversion of out-of-bound Python integers to integer arrays.  The conversion of 2809 to uint8 will fail in the future.\n",
            "For the old behavior, usually:\n",
            "    np.array(value).astype(dtype)\n",
            "will give the desired result (the cast overflows).\n",
            "  result_array[index] = index * index\n",
            "<ipython-input-9-cb2dbe2e20c4>:9: DeprecationWarning: NumPy will stop allowing conversion of out-of-bound Python integers to integer arrays.  The conversion of 5776 to uint8 will fail in the future.\n",
            "For the old behavior, usually:\n",
            "    np.array(value).astype(dtype)\n",
            "will give the desired result (the cast overflows).\n",
            "  result_array[index] = index * index\n",
            "<ipython-input-9-cb2dbe2e20c4>:9: DeprecationWarning: NumPy will stop allowing conversion of out-of-bound Python integers to integer arrays.  The conversion of 900 to uint8 will fail in the future.\n",
            "For the old behavior, usually:\n",
            "    np.array(value).astype(dtype)\n",
            "will give the desired result (the cast overflows).\n",
            "  result_array[index] = index * index\n",
            "<ipython-input-9-cb2dbe2e20c4>:9: DeprecationWarning: NumPy will stop allowing conversion of out-of-bound Python integers to integer arrays.  The conversion of 961 to uint8 will fail in the future.\n",
            "For the old behavior, usually:\n",
            "    np.array(value).astype(dtype)\n",
            "will give the desired result (the cast overflows).\n",
            "  result_array[index] = index * index\n",
            "<ipython-input-9-cb2dbe2e20c4>:9: DeprecationWarning: NumPy will stop allowing conversion of out-of-bound Python integers to integer arrays.  The conversion of 5929 to uint8 will fail in the future.\n",
            "For the old behavior, usually:\n",
            "    np.array(value).astype(dtype)\n",
            "will give the desired result (the cast overflows).\n",
            "  result_array[index] = index * index\n",
            "<ipython-input-9-cb2dbe2e20c4>:9: DeprecationWarning: NumPy will stop allowing conversion of out-of-bound Python integers to integer arrays.  The conversion of 2916 to uint8 will fail in the future.\n",
            "For the old behavior, usually:\n",
            "    np.array(value).astype(dtype)\n",
            "will give the desired result (the cast overflows).\n",
            "  result_array[index] = index * index\n",
            "<ipython-input-9-cb2dbe2e20c4>:9: DeprecationWarning: NumPy will stop allowing conversion of out-of-bound Python integers to integer arrays.  The conversion of 1024 to uint8 will fail in the future.\n",
            "For the old behavior, usually:\n",
            "    np.array(value).astype(dtype)\n",
            "will give the desired result (the cast overflows).\n",
            "  result_array[index] = index * index\n",
            "<ipython-input-9-cb2dbe2e20c4>:9: DeprecationWarning: NumPy will stop allowing conversion of out-of-bound Python integers to integer arrays.  The conversion of 6084 to uint8 will fail in the future.\n",
            "For the old behavior, usually:\n",
            "    np.array(value).astype(dtype)\n",
            "will give the desired result (the cast overflows).\n",
            "  result_array[index] = index * index\n",
            "<ipython-input-9-cb2dbe2e20c4>:9: DeprecationWarning: NumPy will stop allowing conversion of out-of-bound Python integers to integer arrays.  The conversion of 3025 to uint8 will fail in the future.\n",
            "For the old behavior, usually:\n",
            "    np.array(value).astype(dtype)\n",
            "will give the desired result (the cast overflows).\n",
            "  result_array[index] = index * index\n",
            "<ipython-input-9-cb2dbe2e20c4>:9: DeprecationWarning: NumPy will stop allowing conversion of out-of-bound Python integers to integer arrays.  The conversion of 1089 to uint8 will fail in the future.\n",
            "For the old behavior, usually:\n",
            "    np.array(value).astype(dtype)\n",
            "will give the desired result (the cast overflows).\n",
            "  result_array[index] = index * index\n",
            "<ipython-input-9-cb2dbe2e20c4>:9: DeprecationWarning: NumPy will stop allowing conversion of out-of-bound Python integers to integer arrays.  The conversion of 6241 to uint8 will fail in the future.\n",
            "For the old behavior, usually:\n",
            "    np.array(value).astype(dtype)\n",
            "will give the desired result (the cast overflows).\n",
            "  result_array[index] = index * index\n",
            "<ipython-input-9-cb2dbe2e20c4>:9: DeprecationWarning: NumPy will stop allowing conversion of out-of-bound Python integers to integer arrays.  The conversion of 3136 to uint8 will fail in the future.\n",
            "For the old behavior, usually:\n",
            "    np.array(value).astype(dtype)\n",
            "will give the desired result (the cast overflows).\n",
            "  result_array[index] = index * index\n",
            "<ipython-input-9-cb2dbe2e20c4>:9: DeprecationWarning: NumPy will stop allowing conversion of out-of-bound Python integers to integer arrays.  The conversion of 1156 to uint8 will fail in the future.\n",
            "For the old behavior, usually:\n",
            "    np.array(value).astype(dtype)\n",
            "will give the desired result (the cast overflows).\n",
            "  result_array[index] = index * index\n",
            "<ipython-input-9-cb2dbe2e20c4>:9: DeprecationWarning: NumPy will stop allowing conversion of out-of-bound Python integers to integer arrays.  The conversion of 6400 to uint8 will fail in the future.\n",
            "For the old behavior, usually:\n",
            "    np.array(value).astype(dtype)\n",
            "will give the desired result (the cast overflows).\n",
            "  result_array[index] = index * index\n",
            "<ipython-input-9-cb2dbe2e20c4>:9: DeprecationWarning: NumPy will stop allowing conversion of out-of-bound Python integers to integer arrays.  The conversion of 3249 to uint8 will fail in the future.\n",
            "For the old behavior, usually:\n",
            "    np.array(value).astype(dtype)\n",
            "will give the desired result (the cast overflows).\n",
            "  result_array[index] = index * index\n",
            "<ipython-input-9-cb2dbe2e20c4>:9: DeprecationWarning: NumPy will stop allowing conversion of out-of-bound Python integers to integer arrays.  The conversion of 1225 to uint8 will fail in the future.\n",
            "For the old behavior, usually:\n",
            "    np.array(value).astype(dtype)\n",
            "will give the desired result (the cast overflows).\n",
            "  result_array[index] = index * index\n",
            "<ipython-input-9-cb2dbe2e20c4>:9: DeprecationWarning: NumPy will stop allowing conversion of out-of-bound Python integers to integer arrays.  The conversion of 6561 to uint8 will fail in the future.\n",
            "For the old behavior, usually:\n",
            "    np.array(value).astype(dtype)\n",
            "will give the desired result (the cast overflows).\n",
            "  result_array[index] = index * index\n",
            "<ipython-input-9-cb2dbe2e20c4>:9: DeprecationWarning: NumPy will stop allowing conversion of out-of-bound Python integers to integer arrays.  The conversion of 3364 to uint8 will fail in the future.\n",
            "For the old behavior, usually:\n",
            "    np.array(value).astype(dtype)\n",
            "will give the desired result (the cast overflows).\n",
            "  result_array[index] = index * index\n",
            "<ipython-input-9-cb2dbe2e20c4>:9: DeprecationWarning: NumPy will stop allowing conversion of out-of-bound Python integers to integer arrays.  The conversion of 1296 to uint8 will fail in the future.\n",
            "For the old behavior, usually:\n",
            "    np.array(value).astype(dtype)\n",
            "will give the desired result (the cast overflows).\n",
            "  result_array[index] = index * index\n",
            "<ipython-input-9-cb2dbe2e20c4>:9: DeprecationWarning: NumPy will stop allowing conversion of out-of-bound Python integers to integer arrays.  The conversion of 6724 to uint8 will fail in the future.\n",
            "For the old behavior, usually:\n",
            "    np.array(value).astype(dtype)\n",
            "will give the desired result (the cast overflows).\n",
            "  result_array[index] = index * index\n",
            "<ipython-input-9-cb2dbe2e20c4>:9: DeprecationWarning: NumPy will stop allowing conversion of out-of-bound Python integers to integer arrays.  The conversion of 3481 to uint8 will fail in the future.\n",
            "For the old behavior, usually:\n",
            "    np.array(value).astype(dtype)\n",
            "will give the desired result (the cast overflows).\n",
            "  result_array[index] = index * index\n",
            "<ipython-input-9-cb2dbe2e20c4>:9: DeprecationWarning: NumPy will stop allowing conversion of out-of-bound Python integers to integer arrays.  The conversion of 1369 to uint8 will fail in the future.\n",
            "For the old behavior, usually:\n",
            "    np.array(value).astype(dtype)\n",
            "will give the desired result (the cast overflows).\n",
            "  result_array[index] = index * index\n",
            "<ipython-input-9-cb2dbe2e20c4>:9: DeprecationWarning: NumPy will stop allowing conversion of out-of-bound Python integers to integer arrays.  The conversion of 6889 to uint8 will fail in the future.\n",
            "For the old behavior, usually:\n",
            "    np.array(value).astype(dtype)\n",
            "will give the desired result (the cast overflows).\n",
            "  result_array[index] = index * index\n",
            "<ipython-input-9-cb2dbe2e20c4>:9: DeprecationWarning: NumPy will stop allowing conversion of out-of-bound Python integers to integer arrays.  The conversion of 3600 to uint8 will fail in the future.\n",
            "For the old behavior, usually:\n",
            "    np.array(value).astype(dtype)\n",
            "will give the desired result (the cast overflows).\n",
            "  result_array[index] = index * index\n",
            "<ipython-input-9-cb2dbe2e20c4>:9: DeprecationWarning: NumPy will stop allowing conversion of out-of-bound Python integers to integer arrays.  The conversion of 1444 to uint8 will fail in the future.\n",
            "For the old behavior, usually:\n",
            "    np.array(value).astype(dtype)\n",
            "will give the desired result (the cast overflows).\n",
            "  result_array[index] = index * index\n",
            "<ipython-input-9-cb2dbe2e20c4>:9: DeprecationWarning: NumPy will stop allowing conversion of out-of-bound Python integers to integer arrays.  The conversion of 7056 to uint8 will fail in the future.\n",
            "For the old behavior, usually:\n",
            "    np.array(value).astype(dtype)\n",
            "will give the desired result (the cast overflows).\n",
            "  result_array[index] = index * index\n",
            "<ipython-input-9-cb2dbe2e20c4>:9: DeprecationWarning: NumPy will stop allowing conversion of out-of-bound Python integers to integer arrays.  The conversion of 3721 to uint8 will fail in the future.\n",
            "For the old behavior, usually:\n",
            "    np.array(value).astype(dtype)\n",
            "will give the desired result (the cast overflows).\n",
            "  result_array[index] = index * index\n",
            "<ipython-input-9-cb2dbe2e20c4>:9: DeprecationWarning: NumPy will stop allowing conversion of out-of-bound Python integers to integer arrays.  The conversion of 1521 to uint8 will fail in the future.\n",
            "For the old behavior, usually:\n",
            "    np.array(value).astype(dtype)\n",
            "will give the desired result (the cast overflows).\n",
            "  result_array[index] = index * index\n",
            "<ipython-input-9-cb2dbe2e20c4>:9: DeprecationWarning: NumPy will stop allowing conversion of out-of-bound Python integers to integer arrays.  The conversion of 7225 to uint8 will fail in the future.\n",
            "For the old behavior, usually:\n",
            "    np.array(value).astype(dtype)\n",
            "will give the desired result (the cast overflows).\n",
            "  result_array[index] = index * index\n",
            "<ipython-input-9-cb2dbe2e20c4>:9: DeprecationWarning: NumPy will stop allowing conversion of out-of-bound Python integers to integer arrays.  The conversion of 3844 to uint8 will fail in the future.\n",
            "For the old behavior, usually:\n",
            "    np.array(value).astype(dtype)\n",
            "will give the desired result (the cast overflows).\n",
            "  result_array[index] = index * index\n",
            "<ipython-input-9-cb2dbe2e20c4>:9: DeprecationWarning: NumPy will stop allowing conversion of out-of-bound Python integers to integer arrays.  The conversion of 1600 to uint8 will fail in the future.\n",
            "For the old behavior, usually:\n",
            "    np.array(value).astype(dtype)\n",
            "will give the desired result (the cast overflows).\n",
            "  result_array[index] = index * index\n",
            "<ipython-input-9-cb2dbe2e20c4>:9: DeprecationWarning: NumPy will stop allowing conversion of out-of-bound Python integers to integer arrays.  The conversion of 7396 to uint8 will fail in the future.\n",
            "For the old behavior, usually:\n",
            "    np.array(value).astype(dtype)\n",
            "will give the desired result (the cast overflows).\n",
            "  result_array[index] = index * index\n",
            "<ipython-input-9-cb2dbe2e20c4>:9: DeprecationWarning: NumPy will stop allowing conversion of out-of-bound Python integers to integer arrays.  The conversion of 3969 to uint8 will fail in the future.\n",
            "For the old behavior, usually:\n",
            "    np.array(value).astype(dtype)\n",
            "will give the desired result (the cast overflows).\n",
            "  result_array[index] = index * index\n",
            "<ipython-input-9-cb2dbe2e20c4>:9: DeprecationWarning: NumPy will stop allowing conversion of out-of-bound Python integers to integer arrays.  The conversion of 1681 to uint8 will fail in the future.\n",
            "For the old behavior, usually:\n",
            "    np.array(value).astype(dtype)\n",
            "will give the desired result (the cast overflows).\n",
            "  result_array[index] = index * index\n",
            "<ipython-input-9-cb2dbe2e20c4>:9: DeprecationWarning: NumPy will stop allowing conversion of out-of-bound Python integers to integer arrays.  The conversion of 7569 to uint8 will fail in the future.\n",
            "For the old behavior, usually:\n",
            "    np.array(value).astype(dtype)\n",
            "will give the desired result (the cast overflows).\n",
            "  result_array[index] = index * index\n",
            "<ipython-input-9-cb2dbe2e20c4>:9: DeprecationWarning: NumPy will stop allowing conversion of out-of-bound Python integers to integer arrays.  The conversion of 4096 to uint8 will fail in the future.\n",
            "For the old behavior, usually:\n",
            "    np.array(value).astype(dtype)\n",
            "will give the desired result (the cast overflows).\n",
            "  result_array[index] = index * index\n",
            "<ipython-input-9-cb2dbe2e20c4>:9: DeprecationWarning: NumPy will stop allowing conversion of out-of-bound Python integers to integer arrays.  The conversion of 1764 to uint8 will fail in the future.\n",
            "For the old behavior, usually:\n",
            "    np.array(value).astype(dtype)\n",
            "will give the desired result (the cast overflows).\n",
            "  result_array[index] = index * index\n",
            "<ipython-input-9-cb2dbe2e20c4>:9: DeprecationWarning: NumPy will stop allowing conversion of out-of-bound Python integers to integer arrays.  The conversion of 7744 to uint8 will fail in the future.\n",
            "For the old behavior, usually:\n",
            "    np.array(value).astype(dtype)\n",
            "will give the desired result (the cast overflows).\n",
            "  result_array[index] = index * index\n",
            "<ipython-input-9-cb2dbe2e20c4>:9: DeprecationWarning: NumPy will stop allowing conversion of out-of-bound Python integers to integer arrays.  The conversion of 4225 to uint8 will fail in the future.\n",
            "For the old behavior, usually:\n",
            "    np.array(value).astype(dtype)\n",
            "will give the desired result (the cast overflows).\n",
            "  result_array[index] = index * index\n",
            "<ipython-input-9-cb2dbe2e20c4>:9: DeprecationWarning: NumPy will stop allowing conversion of out-of-bound Python integers to integer arrays.  The conversion of 1849 to uint8 will fail in the future.\n",
            "For the old behavior, usually:\n",
            "    np.array(value).astype(dtype)\n",
            "will give the desired result (the cast overflows).\n",
            "  result_array[index] = index * index\n",
            "<ipython-input-9-cb2dbe2e20c4>:9: DeprecationWarning: NumPy will stop allowing conversion of out-of-bound Python integers to integer arrays.  The conversion of 7921 to uint8 will fail in the future.\n",
            "For the old behavior, usually:\n",
            "    np.array(value).astype(dtype)\n",
            "will give the desired result (the cast overflows).\n",
            "  result_array[index] = index * index\n",
            "<ipython-input-9-cb2dbe2e20c4>:9: DeprecationWarning: NumPy will stop allowing conversion of out-of-bound Python integers to integer arrays.  The conversion of 4356 to uint8 will fail in the future.\n",
            "For the old behavior, usually:\n",
            "    np.array(value).astype(dtype)\n",
            "will give the desired result (the cast overflows).\n",
            "  result_array[index] = index * index\n",
            "<ipython-input-9-cb2dbe2e20c4>:9: DeprecationWarning: NumPy will stop allowing conversion of out-of-bound Python integers to integer arrays.  The conversion of 1936 to uint8 will fail in the future.\n",
            "For the old behavior, usually:\n",
            "    np.array(value).astype(dtype)\n",
            "will give the desired result (the cast overflows).\n",
            "  result_array[index] = index * index\n",
            "<ipython-input-9-cb2dbe2e20c4>:9: DeprecationWarning: NumPy will stop allowing conversion of out-of-bound Python integers to integer arrays.  The conversion of 8100 to uint8 will fail in the future.\n",
            "For the old behavior, usually:\n",
            "    np.array(value).astype(dtype)\n",
            "will give the desired result (the cast overflows).\n",
            "  result_array[index] = index * index\n",
            "<ipython-input-9-cb2dbe2e20c4>:9: DeprecationWarning: NumPy will stop allowing conversion of out-of-bound Python integers to integer arrays.  The conversion of 4489 to uint8 will fail in the future.\n",
            "For the old behavior, usually:\n",
            "    np.array(value).astype(dtype)\n",
            "will give the desired result (the cast overflows).\n",
            "  result_array[index] = index * index\n",
            "<ipython-input-9-cb2dbe2e20c4>:9: DeprecationWarning: NumPy will stop allowing conversion of out-of-bound Python integers to integer arrays.  The conversion of 2025 to uint8 will fail in the future.\n",
            "For the old behavior, usually:\n",
            "    np.array(value).astype(dtype)\n",
            "will give the desired result (the cast overflows).\n",
            "  result_array[index] = index * index\n",
            "<ipython-input-9-cb2dbe2e20c4>:9: DeprecationWarning: NumPy will stop allowing conversion of out-of-bound Python integers to integer arrays.  The conversion of 8281 to uint8 will fail in the future.\n",
            "For the old behavior, usually:\n",
            "    np.array(value).astype(dtype)\n",
            "will give the desired result (the cast overflows).\n",
            "  result_array[index] = index * index\n",
            "<ipython-input-9-cb2dbe2e20c4>:9: DeprecationWarning: NumPy will stop allowing conversion of out-of-bound Python integers to integer arrays.  The conversion of 4624 to uint8 will fail in the future.\n",
            "For the old behavior, usually:\n",
            "    np.array(value).astype(dtype)\n",
            "will give the desired result (the cast overflows).\n",
            "  result_array[index] = index * index\n",
            "<ipython-input-9-cb2dbe2e20c4>:9: DeprecationWarning: NumPy will stop allowing conversion of out-of-bound Python integers to integer arrays.  The conversion of 2116 to uint8 will fail in the future.\n",
            "For the old behavior, usually:\n",
            "    np.array(value).astype(dtype)\n",
            "will give the desired result (the cast overflows).\n",
            "  result_array[index] = index * index\n",
            "<ipython-input-9-cb2dbe2e20c4>:9: DeprecationWarning: NumPy will stop allowing conversion of out-of-bound Python integers to integer arrays.  The conversion of 4761 to uint8 will fail in the future.\n",
            "For the old behavior, usually:\n",
            "    np.array(value).astype(dtype)\n",
            "will give the desired result (the cast overflows).\n",
            "  result_array[index] = index * index\n",
            "<ipython-input-9-cb2dbe2e20c4>:9: DeprecationWarning: NumPy will stop allowing conversion of out-of-bound Python integers to integer arrays.  The conversion of 8464 to uint8 will fail in the future.\n",
            "For the old behavior, usually:\n",
            "    np.array(value).astype(dtype)\n",
            "will give the desired result (the cast overflows).\n",
            "  result_array[index] = index * index\n",
            "<ipython-input-9-cb2dbe2e20c4>:9: DeprecationWarning: NumPy will stop allowing conversion of out-of-bound Python integers to integer arrays.  The conversion of 2209 to uint8 will fail in the future.\n",
            "For the old behavior, usually:\n",
            "    np.array(value).astype(dtype)\n",
            "will give the desired result (the cast overflows).\n",
            "  result_array[index] = index * index\n",
            "<ipython-input-9-cb2dbe2e20c4>:9: DeprecationWarning: NumPy will stop allowing conversion of out-of-bound Python integers to integer arrays.  The conversion of 4900 to uint8 will fail in the future.\n",
            "For the old behavior, usually:\n",
            "    np.array(value).astype(dtype)\n",
            "will give the desired result (the cast overflows).\n",
            "  result_array[index] = index * index\n",
            "<ipython-input-9-cb2dbe2e20c4>:9: DeprecationWarning: NumPy will stop allowing conversion of out-of-bound Python integers to integer arrays.  The conversion of 8649 to uint8 will fail in the future.\n",
            "For the old behavior, usually:\n",
            "    np.array(value).astype(dtype)\n",
            "will give the desired result (the cast overflows).\n",
            "  result_array[index] = index * index\n",
            "<ipython-input-9-cb2dbe2e20c4>:9: DeprecationWarning: NumPy will stop allowing conversion of out-of-bound Python integers to integer arrays.  The conversion of 2304 to uint8 will fail in the future.\n",
            "For the old behavior, usually:\n",
            "    np.array(value).astype(dtype)\n",
            "will give the desired result (the cast overflows).\n",
            "  result_array[index] = index * index\n",
            "<ipython-input-9-cb2dbe2e20c4>:9: DeprecationWarning: NumPy will stop allowing conversion of out-of-bound Python integers to integer arrays.  The conversion of 5041 to uint8 will fail in the future.\n",
            "For the old behavior, usually:\n",
            "    np.array(value).astype(dtype)\n",
            "will give the desired result (the cast overflows).\n",
            "  result_array[index] = index * index\n",
            "<ipython-input-9-cb2dbe2e20c4>:9: DeprecationWarning: NumPy will stop allowing conversion of out-of-bound Python integers to integer arrays.  The conversion of 8836 to uint8 will fail in the future.\n",
            "For the old behavior, usually:\n",
            "    np.array(value).astype(dtype)\n",
            "will give the desired result (the cast overflows).\n",
            "  result_array[index] = index * index\n",
            "<ipython-input-9-cb2dbe2e20c4>:9: DeprecationWarning: NumPy will stop allowing conversion of out-of-bound Python integers to integer arrays.  The conversion of 2401 to uint8 will fail in the future.\n",
            "For the old behavior, usually:\n",
            "    np.array(value).astype(dtype)\n",
            "will give the desired result (the cast overflows).\n",
            "  result_array[index] = index * index\n",
            "<ipython-input-9-cb2dbe2e20c4>:9: DeprecationWarning: NumPy will stop allowing conversion of out-of-bound Python integers to integer arrays.  The conversion of 5184 to uint8 will fail in the future.\n",
            "For the old behavior, usually:\n",
            "    np.array(value).astype(dtype)\n",
            "will give the desired result (the cast overflows).\n",
            "  result_array[index] = index * index\n",
            "<ipython-input-9-cb2dbe2e20c4>:9: DeprecationWarning: NumPy will stop allowing conversion of out-of-bound Python integers to integer arrays.  The conversion of 9025 to uint8 will fail in the future.\n",
            "For the old behavior, usually:\n",
            "    np.array(value).astype(dtype)\n",
            "will give the desired result (the cast overflows).\n",
            "  result_array[index] = index * index\n",
            "<ipython-input-9-cb2dbe2e20c4>:9: DeprecationWarning: NumPy will stop allowing conversion of out-of-bound Python integers to integer arrays.  The conversion of 5329 to uint8 will fail in the future.\n",
            "For the old behavior, usually:\n",
            "    np.array(value).astype(dtype)\n",
            "will give the desired result (the cast overflows).\n",
            "  result_array[index] = index * index\n",
            "<ipython-input-9-cb2dbe2e20c4>:9: DeprecationWarning: NumPy will stop allowing conversion of out-of-bound Python integers to integer arrays.  The conversion of 9216 to uint8 will fail in the future.\n",
            "For the old behavior, usually:\n",
            "    np.array(value).astype(dtype)\n",
            "will give the desired result (the cast overflows).\n",
            "  result_array[index] = index * index\n",
            "<ipython-input-9-cb2dbe2e20c4>:9: DeprecationWarning: NumPy will stop allowing conversion of out-of-bound Python integers to integer arrays.  The conversion of 5476 to uint8 will fail in the future.\n",
            "For the old behavior, usually:\n",
            "    np.array(value).astype(dtype)\n",
            "will give the desired result (the cast overflows).\n",
            "  result_array[index] = index * index\n",
            "<ipython-input-9-cb2dbe2e20c4>:9: DeprecationWarning: NumPy will stop allowing conversion of out-of-bound Python integers to integer arrays.  The conversion of 9409 to uint8 will fail in the future.\n",
            "For the old behavior, usually:\n",
            "    np.array(value).astype(dtype)\n",
            "will give the desired result (the cast overflows).\n",
            "  result_array[index] = index * index\n",
            "<ipython-input-9-cb2dbe2e20c4>:9: DeprecationWarning: NumPy will stop allowing conversion of out-of-bound Python integers to integer arrays.  The conversion of 9604 to uint8 will fail in the future.\n",
            "For the old behavior, usually:\n",
            "    np.array(value).astype(dtype)\n",
            "will give the desired result (the cast overflows).\n",
            "  result_array[index] = index * index\n",
            "<ipython-input-9-cb2dbe2e20c4>:9: DeprecationWarning: NumPy will stop allowing conversion of out-of-bound Python integers to integer arrays.  The conversion of 9801 to uint8 will fail in the future.\n",
            "For the old behavior, usually:\n",
            "    np.array(value).astype(dtype)\n",
            "will give the desired result (the cast overflows).\n",
            "  result_array[index] = index * index\n",
            "<ipython-input-9-cb2dbe2e20c4>:9: DeprecationWarning: NumPy will stop allowing conversion of out-of-bound Python integers to integer arrays.  The conversion of 256 to uint8 will fail in the future.\n",
            "For the old behavior, usually:\n",
            "    np.array(value).astype(dtype)\n",
            "will give the desired result (the cast overflows).\n",
            "  result_array[index] = index * index\n",
            "<ipython-input-9-cb2dbe2e20c4>:9: DeprecationWarning: NumPy will stop allowing conversion of out-of-bound Python integers to integer arrays.  The conversion of 289 to uint8 will fail in the future.\n",
            "For the old behavior, usually:\n",
            "    np.array(value).astype(dtype)\n",
            "will give the desired result (the cast overflows).\n",
            "  result_array[index] = index * index\n",
            "<ipython-input-9-cb2dbe2e20c4>:9: DeprecationWarning: NumPy will stop allowing conversion of out-of-bound Python integers to integer arrays.  The conversion of 324 to uint8 will fail in the future.\n",
            "For the old behavior, usually:\n",
            "    np.array(value).astype(dtype)\n",
            "will give the desired result (the cast overflows).\n",
            "  result_array[index] = index * index\n",
            "<ipython-input-9-cb2dbe2e20c4>:9: DeprecationWarning: NumPy will stop allowing conversion of out-of-bound Python integers to integer arrays.  The conversion of 361 to uint8 will fail in the future.\n",
            "For the old behavior, usually:\n",
            "    np.array(value).astype(dtype)\n",
            "will give the desired result (the cast overflows).\n",
            "  result_array[index] = index * index\n",
            "<ipython-input-9-cb2dbe2e20c4>:9: DeprecationWarning: NumPy will stop allowing conversion of out-of-bound Python integers to integer arrays.  The conversion of 400 to uint8 will fail in the future.\n",
            "For the old behavior, usually:\n",
            "    np.array(value).astype(dtype)\n",
            "will give the desired result (the cast overflows).\n",
            "  result_array[index] = index * index\n",
            "<ipython-input-9-cb2dbe2e20c4>:9: DeprecationWarning: NumPy will stop allowing conversion of out-of-bound Python integers to integer arrays.  The conversion of 441 to uint8 will fail in the future.\n",
            "For the old behavior, usually:\n",
            "    np.array(value).astype(dtype)\n",
            "will give the desired result (the cast overflows).\n",
            "  result_array[index] = index * index\n",
            "<ipython-input-9-cb2dbe2e20c4>:9: DeprecationWarning: NumPy will stop allowing conversion of out-of-bound Python integers to integer arrays.  The conversion of 484 to uint8 will fail in the future.\n",
            "For the old behavior, usually:\n",
            "    np.array(value).astype(dtype)\n",
            "will give the desired result (the cast overflows).\n",
            "  result_array[index] = index * index\n",
            "<ipython-input-9-cb2dbe2e20c4>:9: DeprecationWarning: NumPy will stop allowing conversion of out-of-bound Python integers to integer arrays.  The conversion of 529 to uint8 will fail in the future.\n",
            "For the old behavior, usually:\n",
            "    np.array(value).astype(dtype)\n",
            "will give the desired result (the cast overflows).\n",
            "  result_array[index] = index * index\n",
            "<ipython-input-9-cb2dbe2e20c4>:9: DeprecationWarning: NumPy will stop allowing conversion of out-of-bound Python integers to integer arrays.  The conversion of 576 to uint8 will fail in the future.\n",
            "For the old behavior, usually:\n",
            "    np.array(value).astype(dtype)\n",
            "will give the desired result (the cast overflows).\n",
            "  result_array[index] = index * index\n"
          ]
        },
        {
          "output_type": "stream",
          "name": "stdout",
          "text": [
            "[  0   1   4   9  16  25  36  49  64  81 100 121 144 169 196 225   0  33\n",
            "  68 105 144 185 228  17  64 113 164 217  16  73 132 193   0  65 132 201\n",
            "  16  89 164 241  64 145 228  57 144 233  68 161   0  97 196  41 144 249\n",
            " 100 209  64 177  36 153  16 137   4 129   0 129   4 137  16 153  36 177\n",
            "  64 209 100 249 144  41 196  97   0 161  68 233 144  57 228 145  64 241\n",
            " 164  89  16 201 132  65   0 193 132  73]\n"
          ]
        }
      ]
    },
    {
      "cell_type": "markdown",
      "metadata": {
        "id": "tamil-charter"
      },
      "source": [
        "#### OpenMP variables\n",
        "\n",
        "Every parallel context provides its number of threads and the current thread's thread_num in the same way OpenMP does:"
      ],
      "id": "tamil-charter"
    },
    {
      "cell_type": "code",
      "metadata": {
        "id": "double-hypothesis",
        "outputId": "d150acee-e947-43a9-b6c9-870cd638bff6",
        "colab": {
          "base_uri": "https://localhost:8080/"
        }
      },
      "source": [
        "\n",
        "with pymp.Parallel(4) as p:\n",
        "    p.print(p.num_threads, p.thread_num)"
      ],
      "id": "double-hypothesis",
      "execution_count": 10,
      "outputs": [
        {
          "output_type": "stream",
          "name": "stdout",
          "text": [
            "4 1\n",
            "4 2\n",
            "4 0\n",
            "4 3\n"
          ]
        }
      ]
    },
    {
      "cell_type": "markdown",
      "metadata": {
        "id": "lined-indonesia"
      },
      "source": [
        "The original thread entering the parallel context always has `thread_num` 0"
      ],
      "id": "lined-indonesia"
    },
    {
      "cell_type": "markdown",
      "metadata": {
        "id": "sapphire-metadata"
      },
      "source": [
        "#### Variable scopes\n",
        "\n",
        "The only implemented variable scopes are first private, shared and private.\n",
        "\n",
        "- All variables that are declared before the `pymp.Parallel` call are implicitly first private\n",
        "- All variables from the `pymp.shared` module are shared\n",
        "- All variables created within a `pymp.Parallel` context are private.\n",
        "\n",
        "The package `pymp.shared` provides a numpy array wrapper accepting the standard datatype strings, as well as shared list, dict, queue, lock and rlock objects wrapped from multiprocessing. High performance shared memory (ctypes) data structues are array, lock and rlock, the other data structures are synchronized via a *multiprocessing.Manager* and hence a little slower.\n",
        "\n",
        "All data structures must be synchronized manually, if required, by using a lock. The parallel context offers one for your convenience:"
      ],
      "id": "sapphire-metadata"
    },
    {
      "cell_type": "code",
      "metadata": {
        "id": "refined-villa",
        "outputId": "945efd86-1397-414c-e426-631e930f4b8d",
        "colab": {
          "base_uri": "https://localhost:8080/"
        }
      },
      "source": [
        "# int array ; Create shared array\n",
        "incremental_array = pymp.shared.array((1,), dtype='uint8')\n",
        "print(incremental_array)\n",
        "# list\n",
        "no_of_threads = pymp.shared.list()\n",
        "\n",
        "with pymp.Parallel(4) as p:\n",
        "    for index in p.range(0, 100):\n",
        "      # We want to block below piece of code, since we don't multiple threads executing in this section concurrently.\n",
        "      # So, ony when one thread gets completed, and release the lock then only next thread will execute and complete.\n",
        "        with p.lock:\n",
        "            no_of_threads.append(p.thread_num)\n",
        "            incremental_array[0] += 1\n",
        "print(incremental_array)\n",
        "print(no_of_threads)\n",
        "# check the no.of threads\n",
        "set([i for i in no_of_threads])"
      ],
      "id": "refined-villa",
      "execution_count": 11,
      "outputs": [
        {
          "output_type": "stream",
          "name": "stdout",
          "text": [
            "[0]\n",
            "[100]\n",
            "[1, 1, 1, 1, 1, 1, 1, 1, 1, 1, 1, 1, 1, 1, 1, 1, 1, 1, 1, 1, 1, 1, 1, 1, 1, 0, 0, 0, 0, 0, 0, 0, 0, 0, 0, 0, 0, 0, 0, 0, 0, 0, 0, 0, 0, 0, 0, 0, 0, 0, 2, 2, 2, 2, 2, 2, 2, 2, 2, 2, 2, 2, 2, 2, 2, 2, 2, 2, 2, 2, 2, 2, 2, 2, 2, 3, 3, 3, 3, 3, 3, 3, 3, 3, 3, 3, 3, 3, 3, 3, 3, 3, 3, 3, 3, 3, 3, 3, 3, 3]\n"
          ]
        },
        {
          "output_type": "execute_result",
          "data": {
            "text/plain": [
              "{0, 1, 2, 3}"
            ]
          },
          "metadata": {},
          "execution_count": 11
        }
      ]
    },
    {
      "cell_type": "code",
      "metadata": {
        "id": "lztkMQ6zMx1d",
        "outputId": "1faad979-389f-400c-cd54-3200bba46f04",
        "colab": {
          "base_uri": "https://localhost:8080/"
        }
      },
      "source": [
        "incremental_array"
      ],
      "id": "lztkMQ6zMx1d",
      "execution_count": 12,
      "outputs": [
        {
          "output_type": "execute_result",
          "data": {
            "text/plain": [
              "array([100], dtype=uint8)"
            ]
          },
          "metadata": {},
          "execution_count": 12
        }
      ]
    },
    {
      "cell_type": "markdown",
      "metadata": {
        "id": "existing-imaging"
      },
      "source": [
        "#### Nested loops\n",
        "\n",
        "When `pymp.config.nested is True`, it is possible to nest parallel contexts with the expected semantics:\n",
        "\n",
        "**Uncomment the code below and execute the try except block again**"
      ],
      "id": "existing-imaging"
    },
    {
      "cell_type": "code",
      "metadata": {
        "id": "comfortable-bunny"
      },
      "source": [
        "pymp.config.nested = True"
      ],
      "id": "comfortable-bunny",
      "execution_count": 13,
      "outputs": []
    },
    {
      "cell_type": "code",
      "metadata": {
        "id": "indonesian-practitioner",
        "outputId": "e6896cc0-cec9-4d61-94ad-c819581b60c6",
        "colab": {
          "base_uri": "https://localhost:8080/"
        }
      },
      "source": [
        "# nested\n",
        "try:\n",
        "    with pymp.Parallel(4) as p1:\n",
        "        with pymp.Parallel(2) as p2: # So each thread of 4 threads will fork ito 2 threads.\n",
        "            p.print(p1.thread_num, p2.thread_num)\n",
        "except:\n",
        "    print(\"Its an Error!\")"
      ],
      "id": "indonesian-practitioner",
      "execution_count": 14,
      "outputs": [
        {
          "output_type": "stream",
          "name": "stdout",
          "text": [
            "1 0\n",
            "1 1\n",
            "2 0\n",
            "2 1\n",
            "0 0\n",
            "3 0\n",
            "3 1\n",
            "0 1\n"
          ]
        }
      ]
    },
    {
      "cell_type": "markdown",
      "metadata": {
        "id": "infinite-iraqi"
      },
      "source": [
        "#### Laplace Solver Example\n",
        "\n",
        "The common [Laplace solver](https://www.codeproject.com/Articles/1087025/Using-Python-to-Solve-Computational-Physics-Proble), is a little more detailed. The code is definitely not the most efficient, it uses loops\n",
        "\n",
        "**Note:** Laplace solver is used as an example to calculate the computation time"
      ],
      "id": "infinite-iraqi"
    },
    {
      "cell_type": "code",
      "metadata": {
        "id": "heated-blake"
      },
      "source": [
        "nx = 1201\n",
        "ny = 1201\n",
        "\n",
        "# Solution and previous solution arrays\n",
        "sol = np.zeros((nx,ny))\n",
        "\n",
        "# make a copy of an array\n",
        "soln = sol.copy()\n",
        "\n",
        "for j in range(0,ny-1):\n",
        "    sol[0,j] = 10.0\n",
        "    sol[nx-1,j] = 1.0\n",
        "\n",
        "for i in range(0,nx-1):\n",
        "    sol[i,0] = 0.0\n",
        "    sol[i,ny-1] = 0.0"
      ],
      "id": "heated-blake",
      "execution_count": 15,
      "outputs": []
    },
    {
      "cell_type": "code",
      "metadata": {
        "id": "z7rznH9EHL1O",
        "outputId": "ea321f52-daef-4a5e-b4a3-4b8238cb1729",
        "colab": {
          "base_uri": "https://localhost:8080/"
        }
      },
      "source": [
        "# Iterate\n",
        "start_time = time.perf_counter()\n",
        "for kloop in range(1,10):\n",
        "    soln = sol.copy()\n",
        "    for i in range(1,nx-1):\n",
        "        for j in range (1,ny-1):\n",
        "            sol[i,j] = 0.25 * (soln[i,j-1] + soln[i,j+1] + soln[i-1,j] + soln[i+1,j])\n",
        "end_time = time.perf_counter()\n",
        "\n",
        "print('Elapsed wall clock time = %g seconds.' % (end_time-start_time) )"
      ],
      "id": "z7rznH9EHL1O",
      "execution_count": 16,
      "outputs": [
        {
          "output_type": "stream",
          "name": "stdout",
          "text": [
            "Elapsed wall clock time = 16.03 seconds.\n"
          ]
        }
      ]
    },
    {
      "cell_type": "markdown",
      "metadata": {
        "id": "outstanding-silence"
      },
      "source": [
        "Same Implementation of laplace solver using Pymp"
      ],
      "id": "outstanding-silence"
    },
    {
      "cell_type": "code",
      "metadata": {
        "id": "rural-protocol",
        "outputId": "ddca8456-9c59-4995-dc7c-9aaa7a697a71",
        "colab": {
          "base_uri": "https://localhost:8080/"
        }
      },
      "source": [
        "# Solution and previous solution arrays\n",
        "sol = pymp.shared.array((nx,ny))\n",
        "soln = pymp.shared.array((nx,ny))\n",
        "\n",
        "for j in range(0,ny-1):\n",
        "    sol[0,j] = 10.0\n",
        "    sol[nx-1,j] = 1.0\n",
        "\n",
        "for i in range(0,nx-1):\n",
        "    sol[i,0] = 0.0\n",
        "    sol[i,ny-1] = 0.0\n",
        "\n",
        "# Iterate\n",
        "start_time = time.perf_counter()\n",
        "with pymp.Parallel(4) as p:\n",
        "    for kloop in range(1,10):\n",
        "        soln = sol.copy()\n",
        "        for i in p.range(1,nx-1):\n",
        "            for j in p.range (1,ny-1):\n",
        "                sol[i,j] = 0.25 * (soln[i,j-1] + soln[i,j+1] + soln[i-1,j] + soln[i+1,j])\n",
        "\n",
        "end_time = time.perf_counter()\n",
        "print('Elapsed wall clock time = %g seconds.' % (end_time-start_time) )"
      ],
      "id": "rural-protocol",
      "execution_count": 17,
      "outputs": [
        {
          "output_type": "stream",
          "name": "stdout",
          "text": [
            "Elapsed wall clock time = 1.15186 seconds.\n"
          ]
        }
      ]
    },
    {
      "cell_type": "code",
      "source": [],
      "metadata": {
        "id": "0A6IOgZ5up94"
      },
      "id": "0A6IOgZ5up94",
      "execution_count": null,
      "outputs": []
    }
  ]
}